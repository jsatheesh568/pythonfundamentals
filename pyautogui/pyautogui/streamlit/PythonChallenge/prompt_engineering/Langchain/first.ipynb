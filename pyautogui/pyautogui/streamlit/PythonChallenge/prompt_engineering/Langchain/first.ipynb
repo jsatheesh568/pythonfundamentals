{
 "cells": [
  {
   "cell_type": "code",
   "execution_count": 11,
   "id": "f26f5eac",
   "metadata": {},
   "outputs": [],
   "source": [
    "test2 = PyPDFLoader('sample.pdf')"
   ]
  },
  {
   "cell_type": "code",
   "execution_count": 12,
   "id": "a89bc442",
   "metadata": {},
   "outputs": [
    {
     "data": {
      "text/plain": [
       "[Document(metadata={'producer': 'Mac OS X 10.5.4 Quartz PDFContext', 'creator': 'Pages', 'creationdate': \"D:20080701052447Z00'00'\", 'title': 'sample', 'author': 'Philip Hutchison', 'moddate': \"D:20080701052447Z00'00'\", 'source': 'sample.pdf', 'total_pages': 1, 'page': 0, 'page_label': '1'}, page_content='Sample PDFThis is a simple PDF ﬁle. Fun fun fun.\\nLorem ipsum dolor sit amet, consectetuer adipiscing elit. Phasellus facilisis odio sed mi. \\nCurabitur suscipit. Nullam vel nisi. Etiam semper ipsum ut lectus. Proin aliquam, erat eget \\npharetra commodo, eros mi condimentum quam, sed commodo justo quam ut velit. \\nInteger a erat. Cras laoreet ligula cursus enim. Aenean scelerisque velit et tellus. \\nVestibulum dictum aliquet sem. Nulla facilisi. Vestibulum accumsan ante vitae elit. Nulla \\nerat dolor, blandit in, rutrum quis, semper pulvinar, enim. Nullam varius congue risus. \\nVivamus sollicitudin, metus ut interdum eleifend, nisi tellus pellentesque elit, tristique \\naccumsan eros quam et risus. Suspendisse libero odio, mattis sit amet, aliquet eget, \\nhendrerit vel, nulla. Sed vitae augue. Aliquam erat volutpat. Aliquam feugiat vulputate nisl. \\nSuspendisse quis nulla pretium ante pretium mollis. Proin velit ligula, sagittis at, egestas a, \\npulvinar quis, nisl.\\nPellentesque sit amet lectus. Praesent pulvinar, nunc quis iaculis sagittis, justo quam \\nlobortis tortor, sed vestibulum dui metus venenatis est. Nunc cursus ligula. Nulla facilisi. \\nPhasellus ullamcorper consectetuer ante. Duis tincidunt, urna id condimentum luctus, nibh \\nante vulputate sapien, id sagittis massa orci ut enim. Pellentesque vestibulum convallis \\nsem. Nulla consequat quam ut nisl. Nullam est. Curabitur tincidunt dapibus lorem. Proin \\nvelit turpis, scelerisque sit amet, iaculis nec, rhoncus ac, ipsum. Phasellus lorem arcu, \\nfeugiat eu, gravida eu, consequat molestie, ipsum. Nullam vel est ut ipsum volutpat \\nfeugiat. Aenean pellentesque.\\nIn mauris. Pellentesque dui nisi, iaculis eu, rhoncus in, venenatis ac, ante. Ut odio justo, \\nscelerisque vel, facilisis non, commodo a, pede. Cras nec massa sit amet tortor volutpat \\nvarius. Donec lacinia, neque a luctus aliquet, pede massa imperdiet ante, at varius lorem \\npede sed sapien. Fusce erat nibh, aliquet in, eleifend eget, commodo eget, erat. Fusce \\nconsectetuer. Cras risus tortor, porttitor nec, tristique sed, convallis semper, eros. Fusce \\nvulputate ipsum a mauris. Phasellus mollis. Curabitur sed urna. Aliquam nec sapien non \\nnibh pulvinar convallis. Vivamus facilisis augue quis quam. Proin cursus aliquet metus. \\nSuspendisse lacinia. Nulla at tellus ac turpis eleifend scelerisque. Maecenas a pede vitae \\nenim commodo interdum. Donec odio. Sed sollicitudin dui vitae justo.\\nMorbi elit nunc, facilisis a, mollis a, molestie at, lectus. Suspendisse eget mauris eu tellus \\nmolestie cursus. Duis ut magna at justo dignissim condimentum. Cum sociis natoque \\npenatibus et magnis dis parturient montes, nascetur ridiculus mus. Vivamus varius. Ut sit \\namet diam suscipit mauris ornare aliquam. Sed varius. Duis arcu. Etiam tristique massa \\neget dui. Phasellus congue. Aenean est erat, tincidunt eget, venenatis quis, commodo at, \\nquam.')]"
      ]
     },
     "execution_count": 12,
     "metadata": {},
     "output_type": "execute_result"
    }
   ],
   "source": [
    "test2.load()"
   ]
  },
  {
   "cell_type": "code",
   "execution_count": 3,
   "id": "bc87bcaa",
   "metadata": {},
   "outputs": [],
   "source": [
    "from langchain_huggingface import HuggingFaceEmbeddings\n",
    "from langchain_community.vectorstores import Chroma\n"
   ]
  },
  {
   "cell_type": "code",
   "execution_count": 2,
   "id": "c98db300",
   "metadata": {},
   "outputs": [
    {
     "name": "stdout",
     "output_type": "stream",
     "text": [
      "Collecting langchain-huggingface\n",
      "  Downloading langchain_huggingface-0.3.1-py3-none-any.whl (27 kB)\n",
      "Requirement already satisfied: langchain-core<1.0.0,>=0.3.70 in d:\\satheesh\\genai - agentflow\\pyautogui\\pythonfundamentals\\pyautogui\\pyautogui\\lib\\site-packages (from langchain-huggingface) (0.3.76)\n",
      "Collecting tokenizers>=0.19.1\n",
      "  Downloading tokenizers-0.22.0-cp39-abi3-win_amd64.whl (2.7 MB)\n",
      "     ---------------------------------------- 2.7/2.7 MB 5.2 MB/s eta 0:00:00\n",
      "Collecting huggingface-hub>=0.33.4\n",
      "  Downloading huggingface_hub-0.34.6-py3-none-any.whl (562 kB)\n",
      "     -------------------------------------- 562.6/562.6 kB 5.1 MB/s eta 0:00:00\n",
      "Collecting filelock\n",
      "  Downloading filelock-3.19.1-py3-none-any.whl (15 kB)\n",
      "Collecting fsspec>=2023.5.0\n",
      "  Downloading fsspec-2025.9.0-py3-none-any.whl (199 kB)\n",
      "     ------------------------------------- 199.3/199.3 kB 11.8 MB/s eta 0:00:00\n",
      "Requirement already satisfied: packaging>=20.9 in d:\\satheesh\\genai - agentflow\\pyautogui\\pythonfundamentals\\pyautogui\\pyautogui\\lib\\site-packages (from huggingface-hub>=0.33.4->langchain-huggingface) (25.0)\n",
      "Requirement already satisfied: pyyaml>=5.1 in d:\\satheesh\\genai - agentflow\\pyautogui\\pythonfundamentals\\pyautogui\\pyautogui\\lib\\site-packages (from huggingface-hub>=0.33.4->langchain-huggingface) (6.0.2)\n",
      "Requirement already satisfied: requests in d:\\satheesh\\genai - agentflow\\pyautogui\\pythonfundamentals\\pyautogui\\pyautogui\\lib\\site-packages (from huggingface-hub>=0.33.4->langchain-huggingface) (2.32.5)\n",
      "Collecting tqdm>=4.42.1\n",
      "  Downloading tqdm-4.67.1-py3-none-any.whl (78 kB)\n",
      "     ---------------------------------------- 78.5/78.5 kB ? eta 0:00:00\n",
      "Requirement already satisfied: typing-extensions>=3.7.4.3 in d:\\satheesh\\genai - agentflow\\pyautogui\\pythonfundamentals\\pyautogui\\pyautogui\\lib\\site-packages (from huggingface-hub>=0.33.4->langchain-huggingface) (4.15.0)\n",
      "Requirement already satisfied: langsmith>=0.3.45 in d:\\satheesh\\genai - agentflow\\pyautogui\\pythonfundamentals\\pyautogui\\pyautogui\\lib\\site-packages (from langchain-core<1.0.0,>=0.3.70->langchain-huggingface) (0.4.27)\n",
      "Requirement already satisfied: tenacity!=8.4.0,<10.0.0,>=8.1.0 in d:\\satheesh\\genai - agentflow\\pyautogui\\pythonfundamentals\\pyautogui\\pyautogui\\lib\\site-packages (from langchain-core<1.0.0,>=0.3.70->langchain-huggingface) (9.1.2)\n",
      "Requirement already satisfied: jsonpatch<2.0,>=1.33 in d:\\satheesh\\genai - agentflow\\pyautogui\\pythonfundamentals\\pyautogui\\pyautogui\\lib\\site-packages (from langchain-core<1.0.0,>=0.3.70->langchain-huggingface) (1.33)\n",
      "Requirement already satisfied: pydantic>=2.7.4 in d:\\satheesh\\genai - agentflow\\pyautogui\\pythonfundamentals\\pyautogui\\pyautogui\\lib\\site-packages (from langchain-core<1.0.0,>=0.3.70->langchain-huggingface) (2.11.9)\n",
      "Requirement already satisfied: jsonpointer>=1.9 in d:\\satheesh\\genai - agentflow\\pyautogui\\pythonfundamentals\\pyautogui\\pyautogui\\lib\\site-packages (from jsonpatch<2.0,>=1.33->langchain-core<1.0.0,>=0.3.70->langchain-huggingface) (3.0.0)\n",
      "Requirement already satisfied: httpx<1,>=0.23.0 in d:\\satheesh\\genai - agentflow\\pyautogui\\pythonfundamentals\\pyautogui\\pyautogui\\lib\\site-packages (from langsmith>=0.3.45->langchain-core<1.0.0,>=0.3.70->langchain-huggingface) (0.28.1)\n",
      "Requirement already satisfied: orjson>=3.9.14 in d:\\satheesh\\genai - agentflow\\pyautogui\\pythonfundamentals\\pyautogui\\pyautogui\\lib\\site-packages (from langsmith>=0.3.45->langchain-core<1.0.0,>=0.3.70->langchain-huggingface) (3.11.3)\n",
      "Requirement already satisfied: requests-toolbelt>=1.0.0 in d:\\satheesh\\genai - agentflow\\pyautogui\\pythonfundamentals\\pyautogui\\pyautogui\\lib\\site-packages (from langsmith>=0.3.45->langchain-core<1.0.0,>=0.3.70->langchain-huggingface) (1.0.0)\n",
      "Requirement already satisfied: zstandard>=0.23.0 in d:\\satheesh\\genai - agentflow\\pyautogui\\pythonfundamentals\\pyautogui\\pyautogui\\lib\\site-packages (from langsmith>=0.3.45->langchain-core<1.0.0,>=0.3.70->langchain-huggingface) (0.25.0)\n",
      "Requirement already satisfied: annotated-types>=0.6.0 in d:\\satheesh\\genai - agentflow\\pyautogui\\pythonfundamentals\\pyautogui\\pyautogui\\lib\\site-packages (from pydantic>=2.7.4->langchain-core<1.0.0,>=0.3.70->langchain-huggingface) (0.7.0)\n",
      "Requirement already satisfied: pydantic-core==2.33.2 in d:\\satheesh\\genai - agentflow\\pyautogui\\pythonfundamentals\\pyautogui\\pyautogui\\lib\\site-packages (from pydantic>=2.7.4->langchain-core<1.0.0,>=0.3.70->langchain-huggingface) (2.33.2)\n",
      "Requirement already satisfied: typing-inspection>=0.4.0 in d:\\satheesh\\genai - agentflow\\pyautogui\\pythonfundamentals\\pyautogui\\pyautogui\\lib\\site-packages (from pydantic>=2.7.4->langchain-core<1.0.0,>=0.3.70->langchain-huggingface) (0.4.1)\n",
      "Requirement already satisfied: charset_normalizer<4,>=2 in d:\\satheesh\\genai - agentflow\\pyautogui\\pythonfundamentals\\pyautogui\\pyautogui\\lib\\site-packages (from requests->huggingface-hub>=0.33.4->langchain-huggingface) (3.4.3)\n",
      "Requirement already satisfied: idna<4,>=2.5 in d:\\satheesh\\genai - agentflow\\pyautogui\\pythonfundamentals\\pyautogui\\pyautogui\\lib\\site-packages (from requests->huggingface-hub>=0.33.4->langchain-huggingface) (3.10)\n",
      "Requirement already satisfied: urllib3<3,>=1.21.1 in d:\\satheesh\\genai - agentflow\\pyautogui\\pythonfundamentals\\pyautogui\\pyautogui\\lib\\site-packages (from requests->huggingface-hub>=0.33.4->langchain-huggingface) (2.5.0)\n",
      "Requirement already satisfied: certifi>=2017.4.17 in d:\\satheesh\\genai - agentflow\\pyautogui\\pythonfundamentals\\pyautogui\\pyautogui\\lib\\site-packages (from requests->huggingface-hub>=0.33.4->langchain-huggingface) (2025.8.3)\n",
      "Requirement already satisfied: colorama in d:\\satheesh\\genai - agentflow\\pyautogui\\pythonfundamentals\\pyautogui\\pyautogui\\lib\\site-packages (from tqdm>=4.42.1->huggingface-hub>=0.33.4->langchain-huggingface) (0.4.6)\n",
      "Requirement already satisfied: anyio in d:\\satheesh\\genai - agentflow\\pyautogui\\pythonfundamentals\\pyautogui\\pyautogui\\lib\\site-packages (from httpx<1,>=0.23.0->langsmith>=0.3.45->langchain-core<1.0.0,>=0.3.70->langchain-huggingface) (4.10.0)\n",
      "Requirement already satisfied: httpcore==1.* in d:\\satheesh\\genai - agentflow\\pyautogui\\pythonfundamentals\\pyautogui\\pyautogui\\lib\\site-packages (from httpx<1,>=0.23.0->langsmith>=0.3.45->langchain-core<1.0.0,>=0.3.70->langchain-huggingface) (1.0.9)\n",
      "Requirement already satisfied: h11>=0.16 in d:\\satheesh\\genai - agentflow\\pyautogui\\pythonfundamentals\\pyautogui\\pyautogui\\lib\\site-packages (from httpcore==1.*->httpx<1,>=0.23.0->langsmith>=0.3.45->langchain-core<1.0.0,>=0.3.70->langchain-huggingface) (0.16.0)\n",
      "Requirement already satisfied: sniffio>=1.1 in d:\\satheesh\\genai - agentflow\\pyautogui\\pythonfundamentals\\pyautogui\\pyautogui\\lib\\site-packages (from anyio->httpx<1,>=0.23.0->langsmith>=0.3.45->langchain-core<1.0.0,>=0.3.70->langchain-huggingface) (1.3.1)\n",
      "Installing collected packages: tqdm, fsspec, filelock, huggingface-hub, tokenizers, langchain-huggingface\n",
      "Successfully installed filelock-3.19.1 fsspec-2025.9.0 huggingface-hub-0.34.6 langchain-huggingface-0.3.1 tokenizers-0.22.0 tqdm-4.67.1\n",
      "Note: you may need to restart the kernel to use updated packages.\n"
     ]
    },
    {
     "name": "stderr",
     "output_type": "stream",
     "text": [
      "\n",
      "[notice] A new release of pip available: 22.3 -> 25.2\n",
      "[notice] To update, run: python.exe -m pip install --upgrade pip\n"
     ]
    }
   ],
   "source": [
    "pip install langchain-huggingface"
   ]
  },
  {
   "cell_type": "code",
   "execution_count": 4,
   "id": "c822091d",
   "metadata": {},
   "outputs": [],
   "source": [
    "from langchain_community.document_loaders import PyPDFLoader"
   ]
  },
  {
   "cell_type": "code",
   "execution_count": 3,
   "id": "5f24e379",
   "metadata": {},
   "outputs": [
    {
     "data": {
      "text/plain": [
       "[Document(metadata={'source': 'notes.txt'}, page_content='Hello Satheeshkumar Subramanian, GENAI Architect!')]"
      ]
     },
     "execution_count": 3,
     "metadata": {},
     "output_type": "execute_result"
    }
   ],
   "source": [
    "test.load()"
   ]
  },
  {
   "cell_type": "code",
   "execution_count": 2,
   "id": "38ed48d1",
   "metadata": {},
   "outputs": [],
   "source": [
    "test = TextLoader('notes.txt')"
   ]
  },
  {
   "cell_type": "code",
   "execution_count": 1,
   "id": "86525307",
   "metadata": {},
   "outputs": [],
   "source": [
    "from langchain_community.document_loaders import TextLoader"
   ]
  },
  {
   "cell_type": "code",
   "execution_count": 5,
   "id": "31dcacec",
   "metadata": {},
   "outputs": [
    {
     "name": "stdout",
     "output_type": "stream",
     "text": [
      "Collecting pypdf\n",
      "  Downloading pypdf-6.0.0-py3-none-any.whl (310 kB)\n",
      "     -------------------------------------- 310.5/310.5 kB 1.1 MB/s eta 0:00:00\n",
      "Installing collected packages: pypdf\n",
      "Successfully installed pypdf-6.0.0\n",
      "Note: you may need to restart the kernel to use updated packages.\n"
     ]
    },
    {
     "name": "stderr",
     "output_type": "stream",
     "text": [
      "\n",
      "[notice] A new release of pip available: 22.3 -> 25.2\n",
      "[notice] To update, run: python.exe -m pip install --upgrade pip\n"
     ]
    }
   ],
   "source": [
    "pip install pypdf\n"
   ]
  }
 ],
 "metadata": {
  "kernelspec": {
   "display_name": "pyautogui (3.11.0)",
   "language": "python",
   "name": "python3"
  },
  "language_info": {
   "codemirror_mode": {
    "name": "ipython",
    "version": 3
   },
   "file_extension": ".py",
   "mimetype": "text/x-python",
   "name": "python",
   "nbconvert_exporter": "python",
   "pygments_lexer": "ipython3",
   "version": "3.11.0"
  }
 },
 "nbformat": 4,
 "nbformat_minor": 5
}
