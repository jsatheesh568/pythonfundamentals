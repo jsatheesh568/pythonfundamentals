{
 "cells": [
  {
   "cell_type": "code",
   "execution_count": 11,
   "id": "f26f5eac",
   "metadata": {},
   "outputs": [],
   "source": [
    "test2 = PyPDFLoader('sample.pdf')"
   ]
  },
  {
   "cell_type": "code",
   "execution_count": null,
   "id": "74c81bbf",
   "metadata": {},
   "outputs": [
    {
     "name": "stderr",
     "output_type": "stream",
     "text": [
      "d:\\Satheesh\\GenAI - agentflow\\Pyautogui\\pythonfundamentals\\pyautogui\\pyautogui\\Lib\\site-packages\\tqdm\\auto.py:21: TqdmWarning: IProgress not found. Please update jupyter and ipywidgets. See https://ipywidgets.readthedocs.io/en/stable/user_install.html\n",
      "  from .autonotebook import tqdm as notebook_tqdm\n"
     ]
    }
   ],
   "source": [
    "from langchain.chat_models import ChatOpenAI\n",
    "from langchain.chains import RetrievalQA\n",
    "from langchain.vectorstores import FAISS\n",
    "from langchain.embeddings.openai import OpenAIEmbeddings\n",
    "from langchain.document_loaders import TextLoader\n",
    "from langchain.text_splitter import CharacterTextSplitter\n",
    "\n",
    "loader = TextLoader(\"notes.txt\")\n",
    "docs =  loader.load()\n",
    "splitter = CharacterTextSplitter(chunk_size=500, chunk_overlap=50)\n",
    "chunks = splitter.split_documents(docs)\n",
    "\n",
    "embeddings=OpenAIEmbeddings()\n",
    "vectorStore = FAISS.from_documents(chunks, embeddings)\n",
    "\n",
    "retriever = vectorstore.as_retriever()\n",
    "llm = ChatOpenAI(temperature =0)\n",
    "qa= RetrievalQA.from_chain_type(llm=llm, retriever=retriever)\n",
    "\n",
    "def self_rag_query(question):\n",
    "\tprint(\"First attemp without retrieval\")\n",
    "\tfirst_answer =llm.predict(f\"Q: {question}\\nA:\")\n",
    "\t\n",
    "if \"I'm not sure\" in first_answer or len(first_answer) < 30 :\n",
    "\tprint(\"Low confidence. Retrieving context and trying again...\")\n",
    "\timproved_answer = qa.run(question)\n",
    "\treturn improved_answer\n",
    "else:\n",
    "\treturn first_answer\n",
    "\t\n",
    "response = self_rag_query(\"What is the capital of france ?\")\n",
    "print(\"\\nFinal answer :\", response)"
   ]
  },
  {
   "cell_type": "code",
   "execution_count": 12,
   "id": "a89bc442",
   "metadata": {},
   "outputs": [
    {
     "data": {
      "text/plain": [
       "[Document(metadata={'producer': 'Mac OS X 10.5.4 Quartz PDFContext', 'creator': 'Pages', 'creationdate': \"D:20080701052447Z00'00'\", 'title': 'sample', 'author': 'Philip Hutchison', 'moddate': \"D:20080701052447Z00'00'\", 'source': 'sample.pdf', 'total_pages': 1, 'page': 0, 'page_label': '1'}, page_content='Sample PDFThis is a simple PDF ﬁle. Fun fun fun.\\nLorem ipsum dolor sit amet, consectetuer adipiscing elit. Phasellus facilisis odio sed mi. \\nCurabitur suscipit. Nullam vel nisi. Etiam semper ipsum ut lectus. Proin aliquam, erat eget \\npharetra commodo, eros mi condimentum quam, sed commodo justo quam ut velit. \\nInteger a erat. Cras laoreet ligula cursus enim. Aenean scelerisque velit et tellus. \\nVestibulum dictum aliquet sem. Nulla facilisi. Vestibulum accumsan ante vitae elit. Nulla \\nerat dolor, blandit in, rutrum quis, semper pulvinar, enim. Nullam varius congue risus. \\nVivamus sollicitudin, metus ut interdum eleifend, nisi tellus pellentesque elit, tristique \\naccumsan eros quam et risus. Suspendisse libero odio, mattis sit amet, aliquet eget, \\nhendrerit vel, nulla. Sed vitae augue. Aliquam erat volutpat. Aliquam feugiat vulputate nisl. \\nSuspendisse quis nulla pretium ante pretium mollis. Proin velit ligula, sagittis at, egestas a, \\npulvinar quis, nisl.\\nPellentesque sit amet lectus. Praesent pulvinar, nunc quis iaculis sagittis, justo quam \\nlobortis tortor, sed vestibulum dui metus venenatis est. Nunc cursus ligula. Nulla facilisi. \\nPhasellus ullamcorper consectetuer ante. Duis tincidunt, urna id condimentum luctus, nibh \\nante vulputate sapien, id sagittis massa orci ut enim. Pellentesque vestibulum convallis \\nsem. Nulla consequat quam ut nisl. Nullam est. Curabitur tincidunt dapibus lorem. Proin \\nvelit turpis, scelerisque sit amet, iaculis nec, rhoncus ac, ipsum. Phasellus lorem arcu, \\nfeugiat eu, gravida eu, consequat molestie, ipsum. Nullam vel est ut ipsum volutpat \\nfeugiat. Aenean pellentesque.\\nIn mauris. Pellentesque dui nisi, iaculis eu, rhoncus in, venenatis ac, ante. Ut odio justo, \\nscelerisque vel, facilisis non, commodo a, pede. Cras nec massa sit amet tortor volutpat \\nvarius. Donec lacinia, neque a luctus aliquet, pede massa imperdiet ante, at varius lorem \\npede sed sapien. Fusce erat nibh, aliquet in, eleifend eget, commodo eget, erat. Fusce \\nconsectetuer. Cras risus tortor, porttitor nec, tristique sed, convallis semper, eros. Fusce \\nvulputate ipsum a mauris. Phasellus mollis. Curabitur sed urna. Aliquam nec sapien non \\nnibh pulvinar convallis. Vivamus facilisis augue quis quam. Proin cursus aliquet metus. \\nSuspendisse lacinia. Nulla at tellus ac turpis eleifend scelerisque. Maecenas a pede vitae \\nenim commodo interdum. Donec odio. Sed sollicitudin dui vitae justo.\\nMorbi elit nunc, facilisis a, mollis a, molestie at, lectus. Suspendisse eget mauris eu tellus \\nmolestie cursus. Duis ut magna at justo dignissim condimentum. Cum sociis natoque \\npenatibus et magnis dis parturient montes, nascetur ridiculus mus. Vivamus varius. Ut sit \\namet diam suscipit mauris ornare aliquam. Sed varius. Duis arcu. Etiam tristique massa \\neget dui. Phasellus congue. Aenean est erat, tincidunt eget, venenatis quis, commodo at, \\nquam.')]"
      ]
     },
     "execution_count": 12,
     "metadata": {},
     "output_type": "execute_result"
    }
   ],
   "source": [
    "test2.load()"
   ]
  },
  {
   "cell_type": "code",
   "execution_count": null,
   "id": "bc87bcaa",
   "metadata": {},
   "outputs": [
    {
     "name": "stderr",
     "output_type": "stream",
     "text": [
      "d:\\Satheesh\\GenAI - agentflow\\Pyautogui\\pythonfundamentals\\pyautogui\\pyautogui\\Lib\\site-packages\\tqdm\\auto.py:21: TqdmWarning: IProgress not found. Please update jupyter and ipywidgets. See https://ipywidgets.readthedocs.io/en/stable/user_install.html\n",
      "  from .autonotebook import tqdm as notebook_tqdm\n"
     ]
    }
   ],
   "source": [
    "from langchain_huggingface import HuggingFaceEmbeddings\n",
    "from langchain_community.vectorstores import Chroma\n"
   ]
  },
  {
   "cell_type": "code",
   "execution_count": 6,
   "id": "697f4a93",
   "metadata": {},
   "outputs": [
    {
     "name": "stderr",
     "output_type": "stream",
     "text": [
      "d:\\Satheesh\\GenAI - agentflow\\Pyautogui\\pythonfundamentals\\pyautogui\\pyautogui\\Lib\\site-packages\\tqdm\\auto.py:21: TqdmWarning: IProgress not found. Please update jupyter and ipywidgets. See https://ipywidgets.readthedocs.io/en/stable/user_install.html\n",
      "  from .autonotebook import tqdm as notebook_tqdm\n",
      "d:\\Satheesh\\GenAI - agentflow\\Pyautogui\\pythonfundamentals\\pyautogui\\pyautogui\\Lib\\site-packages\\huggingface_hub\\file_download.py:143: UserWarning: `huggingface_hub` cache-system uses symlinks by default to efficiently store duplicated files but your machine does not support them in C:\\Users\\jsath\\.cache\\huggingface\\hub\\models--sentence-transformers--all-MiniLM-L6-v2. Caching files will still work but in a degraded version that might require more space on your disk. This warning can be disabled by setting the `HF_HUB_DISABLE_SYMLINKS_WARNING` environment variable. For more details, see https://huggingface.co/docs/huggingface_hub/how-to-cache#limitations.\n",
      "To support symlinks on Windows, you either need to activate Developer Mode or to run Python as an administrator. In order to activate developer mode, see this article: https://docs.microsoft.com/en-us/windows/apps/get-started/enable-your-device-for-development\n",
      "  warnings.warn(message)\n",
      "Xet Storage is enabled for this repo, but the 'hf_xet' package is not installed. Falling back to regular HTTP download. For better performance, install the package with: `pip install huggingface_hub[hf_xet]` or `pip install hf_xet`\n"
     ]
    }
   ],
   "source": [
    "embeddings = HuggingFaceEmbeddings(model_name=\"sentence-transformers/all-MiniLM-L6-v2\") "
   ]
  },
  {
   "cell_type": "code",
   "execution_count": 3,
   "id": "e47e5631",
   "metadata": {},
   "outputs": [
    {
     "ename": "NameError",
     "evalue": "name 'Chroma' is not defined",
     "output_type": "error",
     "traceback": [
      "\u001b[31m---------------------------------------------------------------------------\u001b[39m",
      "\u001b[31mNameError\u001b[39m                                 Traceback (most recent call last)",
      "\u001b[36mCell\u001b[39m\u001b[36m \u001b[39m\u001b[32mIn[3]\u001b[39m\u001b[32m, line 4\u001b[39m\n\u001b[32m      1\u001b[39m texts =[\u001b[33m\"\u001b[39m\u001b[33mThe quick brows fox jumps over the lazy dog\u001b[39m\u001b[33m\"\u001b[39m, \n\u001b[32m      2\u001b[39m \u001b[33m\"\u001b[39m\u001b[33mLangchain makes it easy to work with LLM\u001b[39m\u001b[33m\"\u001b[39m,\n\u001b[32m      3\u001b[39m \u001b[33m\"\u001b[39m\u001b[33mchroma is another vector store similar to FAISS\u001b[39m\u001b[33m\"\u001b[39m]\n\u001b[32m----> \u001b[39m\u001b[32m4\u001b[39m vectorstore = \u001b[43mChroma\u001b[49m.from_texts(texts,embedding = embeddings)\n",
      "\u001b[31mNameError\u001b[39m: name 'Chroma' is not defined"
     ]
    }
   ],
   "source": [
    "texts =[\"The quick brows fox jumps over the lazy dog\", \n",
    "\"Langchain makes it easy to work with LLM\",\n",
    "\"chroma is another vector store similar to FAISS\"]\n",
    "vectorstore = Chroma.from_texts(texts,embedding = embeddings)"
   ]
  },
  {
   "cell_type": "code",
   "execution_count": 1,
   "id": "914ea450",
   "metadata": {},
   "outputs": [
    {
     "name": "stdout",
     "output_type": "stream",
     "text": [
      "Requirement already satisfied: chromadb in d:\\satheesh\\genai - agentflow\\pyautogui\\pythonfundamentals\\pyautogui\\pyautogui\\lib\\site-packages (1.0.21)\n",
      "Requirement already satisfied: build>=1.0.3 in d:\\satheesh\\genai - agentflow\\pyautogui\\pythonfundamentals\\pyautogui\\pyautogui\\lib\\site-packages (from chromadb) (1.3.0)\n",
      "Requirement already satisfied: pydantic>=1.9 in d:\\satheesh\\genai - agentflow\\pyautogui\\pythonfundamentals\\pyautogui\\pyautogui\\lib\\site-packages (from chromadb) (2.11.9)\n",
      "Requirement already satisfied: pybase64>=1.4.1 in d:\\satheesh\\genai - agentflow\\pyautogui\\pythonfundamentals\\pyautogui\\pyautogui\\lib\\site-packages (from chromadb) (1.4.2)\n",
      "Requirement already satisfied: uvicorn[standard]>=0.18.3 in d:\\satheesh\\genai - agentflow\\pyautogui\\pythonfundamentals\\pyautogui\\pyautogui\\lib\\site-packages (from chromadb) (0.35.0)\n",
      "Requirement already satisfied: numpy>=1.22.5 in d:\\satheesh\\genai - agentflow\\pyautogui\\pythonfundamentals\\pyautogui\\pyautogui\\lib\\site-packages (from chromadb) (2.3.2)\n",
      "Requirement already satisfied: posthog<6.0.0,>=2.4.0 in d:\\satheesh\\genai - agentflow\\pyautogui\\pythonfundamentals\\pyautogui\\pyautogui\\lib\\site-packages (from chromadb) (5.4.0)\n",
      "Requirement already satisfied: typing-extensions>=4.5.0 in d:\\satheesh\\genai - agentflow\\pyautogui\\pythonfundamentals\\pyautogui\\pyautogui\\lib\\site-packages (from chromadb) (4.15.0)\n",
      "Requirement already satisfied: onnxruntime>=1.14.1 in d:\\satheesh\\genai - agentflow\\pyautogui\\pythonfundamentals\\pyautogui\\pyautogui\\lib\\site-packages (from chromadb) (1.22.1)\n",
      "Requirement already satisfied: opentelemetry-api>=1.2.0 in d:\\satheesh\\genai - agentflow\\pyautogui\\pythonfundamentals\\pyautogui\\pyautogui\\lib\\site-packages (from chromadb) (1.37.0)\n",
      "Requirement already satisfied: opentelemetry-exporter-otlp-proto-grpc>=1.2.0 in d:\\satheesh\\genai - agentflow\\pyautogui\\pythonfundamentals\\pyautogui\\pyautogui\\lib\\site-packages (from chromadb) (1.37.0)\n",
      "Requirement already satisfied: opentelemetry-sdk>=1.2.0 in d:\\satheesh\\genai - agentflow\\pyautogui\\pythonfundamentals\\pyautogui\\pyautogui\\lib\\site-packages (from chromadb) (1.37.0)\n",
      "Requirement already satisfied: tokenizers>=0.13.2 in d:\\satheesh\\genai - agentflow\\pyautogui\\pythonfundamentals\\pyautogui\\pyautogui\\lib\\site-packages (from chromadb) (0.22.0)\n",
      "Requirement already satisfied: pypika>=0.48.9 in d:\\satheesh\\genai - agentflow\\pyautogui\\pythonfundamentals\\pyautogui\\pyautogui\\lib\\site-packages (from chromadb) (0.48.9)\n",
      "Requirement already satisfied: tqdm>=4.65.0 in d:\\satheesh\\genai - agentflow\\pyautogui\\pythonfundamentals\\pyautogui\\pyautogui\\lib\\site-packages (from chromadb) (4.67.1)\n",
      "Requirement already satisfied: overrides>=7.3.1 in d:\\satheesh\\genai - agentflow\\pyautogui\\pythonfundamentals\\pyautogui\\pyautogui\\lib\\site-packages (from chromadb) (7.7.0)\n",
      "Requirement already satisfied: importlib-resources in d:\\satheesh\\genai - agentflow\\pyautogui\\pythonfundamentals\\pyautogui\\pyautogui\\lib\\site-packages (from chromadb) (6.5.2)\n",
      "Requirement already satisfied: grpcio>=1.58.0 in d:\\satheesh\\genai - agentflow\\pyautogui\\pythonfundamentals\\pyautogui\\pyautogui\\lib\\site-packages (from chromadb) (1.75.0)\n",
      "Requirement already satisfied: bcrypt>=4.0.1 in d:\\satheesh\\genai - agentflow\\pyautogui\\pythonfundamentals\\pyautogui\\pyautogui\\lib\\site-packages (from chromadb) (4.3.0)\n",
      "Requirement already satisfied: typer>=0.9.0 in d:\\satheesh\\genai - agentflow\\pyautogui\\pythonfundamentals\\pyautogui\\pyautogui\\lib\\site-packages (from chromadb) (0.17.4)\n",
      "Requirement already satisfied: kubernetes>=28.1.0 in d:\\satheesh\\genai - agentflow\\pyautogui\\pythonfundamentals\\pyautogui\\pyautogui\\lib\\site-packages (from chromadb) (33.1.0)\n",
      "Requirement already satisfied: tenacity>=8.2.3 in d:\\satheesh\\genai - agentflow\\pyautogui\\pythonfundamentals\\pyautogui\\pyautogui\\lib\\site-packages (from chromadb) (9.1.2)\n",
      "Requirement already satisfied: pyyaml>=6.0.0 in d:\\satheesh\\genai - agentflow\\pyautogui\\pythonfundamentals\\pyautogui\\pyautogui\\lib\\site-packages (from chromadb) (6.0.2)\n",
      "Requirement already satisfied: mmh3>=4.0.1 in d:\\satheesh\\genai - agentflow\\pyautogui\\pythonfundamentals\\pyautogui\\pyautogui\\lib\\site-packages (from chromadb) (5.2.0)\n",
      "Requirement already satisfied: orjson>=3.9.12 in d:\\satheesh\\genai - agentflow\\pyautogui\\pythonfundamentals\\pyautogui\\pyautogui\\lib\\site-packages (from chromadb) (3.11.3)\n",
      "Requirement already satisfied: httpx>=0.27.0 in d:\\satheesh\\genai - agentflow\\pyautogui\\pythonfundamentals\\pyautogui\\pyautogui\\lib\\site-packages (from chromadb) (0.28.1)\n",
      "Requirement already satisfied: rich>=10.11.0 in d:\\satheesh\\genai - agentflow\\pyautogui\\pythonfundamentals\\pyautogui\\pyautogui\\lib\\site-packages (from chromadb) (14.1.0)\n",
      "Requirement already satisfied: jsonschema>=4.19.0 in d:\\satheesh\\genai - agentflow\\pyautogui\\pythonfundamentals\\pyautogui\\pyautogui\\lib\\site-packages (from chromadb) (4.25.1)\n",
      "Requirement already satisfied: packaging>=19.1 in d:\\satheesh\\genai - agentflow\\pyautogui\\pythonfundamentals\\pyautogui\\pyautogui\\lib\\site-packages (from build>=1.0.3->chromadb) (25.0)\n",
      "Requirement already satisfied: pyproject_hooks in d:\\satheesh\\genai - agentflow\\pyautogui\\pythonfundamentals\\pyautogui\\pyautogui\\lib\\site-packages (from build>=1.0.3->chromadb) (1.2.0)\n",
      "Requirement already satisfied: colorama in d:\\satheesh\\genai - agentflow\\pyautogui\\pythonfundamentals\\pyautogui\\pyautogui\\lib\\site-packages (from build>=1.0.3->chromadb) (0.4.6)\n",
      "Requirement already satisfied: anyio in d:\\satheesh\\genai - agentflow\\pyautogui\\pythonfundamentals\\pyautogui\\pyautogui\\lib\\site-packages (from httpx>=0.27.0->chromadb) (4.10.0)\n",
      "Requirement already satisfied: certifi in d:\\satheesh\\genai - agentflow\\pyautogui\\pythonfundamentals\\pyautogui\\pyautogui\\lib\\site-packages (from httpx>=0.27.0->chromadb) (2025.8.3)\n",
      "Requirement already satisfied: httpcore==1.* in d:\\satheesh\\genai - agentflow\\pyautogui\\pythonfundamentals\\pyautogui\\pyautogui\\lib\\site-packages (from httpx>=0.27.0->chromadb) (1.0.9)\n",
      "Requirement already satisfied: idna in d:\\satheesh\\genai - agentflow\\pyautogui\\pythonfundamentals\\pyautogui\\pyautogui\\lib\\site-packages (from httpx>=0.27.0->chromadb) (3.10)\n",
      "Requirement already satisfied: h11>=0.16 in d:\\satheesh\\genai - agentflow\\pyautogui\\pythonfundamentals\\pyautogui\\pyautogui\\lib\\site-packages (from httpcore==1.*->httpx>=0.27.0->chromadb) (0.16.0)\n",
      "Requirement already satisfied: attrs>=22.2.0 in d:\\satheesh\\genai - agentflow\\pyautogui\\pythonfundamentals\\pyautogui\\pyautogui\\lib\\site-packages (from jsonschema>=4.19.0->chromadb) (25.3.0)\n",
      "Requirement already satisfied: jsonschema-specifications>=2023.03.6 in d:\\satheesh\\genai - agentflow\\pyautogui\\pythonfundamentals\\pyautogui\\pyautogui\\lib\\site-packages (from jsonschema>=4.19.0->chromadb) (2025.4.1)\n",
      "Requirement already satisfied: referencing>=0.28.4 in d:\\satheesh\\genai - agentflow\\pyautogui\\pythonfundamentals\\pyautogui\\pyautogui\\lib\\site-packages (from jsonschema>=4.19.0->chromadb) (0.36.2)\n",
      "Requirement already satisfied: rpds-py>=0.7.1 in d:\\satheesh\\genai - agentflow\\pyautogui\\pythonfundamentals\\pyautogui\\pyautogui\\lib\\site-packages (from jsonschema>=4.19.0->chromadb) (0.27.1)\n",
      "Requirement already satisfied: six>=1.9.0 in d:\\satheesh\\genai - agentflow\\pyautogui\\pythonfundamentals\\pyautogui\\pyautogui\\lib\\site-packages (from kubernetes>=28.1.0->chromadb) (1.17.0)\n",
      "Requirement already satisfied: python-dateutil>=2.5.3 in d:\\satheesh\\genai - agentflow\\pyautogui\\pythonfundamentals\\pyautogui\\pyautogui\\lib\\site-packages (from kubernetes>=28.1.0->chromadb) (2.9.0.post0)\n",
      "Requirement already satisfied: google-auth>=1.0.1 in d:\\satheesh\\genai - agentflow\\pyautogui\\pythonfundamentals\\pyautogui\\pyautogui\\lib\\site-packages (from kubernetes>=28.1.0->chromadb) (2.40.3)\n",
      "Requirement already satisfied: websocket-client!=0.40.0,!=0.41.*,!=0.42.*,>=0.32.0 in d:\\satheesh\\genai - agentflow\\pyautogui\\pythonfundamentals\\pyautogui\\pyautogui\\lib\\site-packages (from kubernetes>=28.1.0->chromadb) (1.8.0)\n",
      "Requirement already satisfied: requests in d:\\satheesh\\genai - agentflow\\pyautogui\\pythonfundamentals\\pyautogui\\pyautogui\\lib\\site-packages (from kubernetes>=28.1.0->chromadb) (2.32.5)\n",
      "Requirement already satisfied: requests-oauthlib in d:\\satheesh\\genai - agentflow\\pyautogui\\pythonfundamentals\\pyautogui\\pyautogui\\lib\\site-packages (from kubernetes>=28.1.0->chromadb) (2.0.0)\n",
      "Requirement already satisfied: oauthlib>=3.2.2 in d:\\satheesh\\genai - agentflow\\pyautogui\\pythonfundamentals\\pyautogui\\pyautogui\\lib\\site-packages (from kubernetes>=28.1.0->chromadb) (3.3.1)\n",
      "Requirement already satisfied: urllib3>=1.24.2 in d:\\satheesh\\genai - agentflow\\pyautogui\\pythonfundamentals\\pyautogui\\pyautogui\\lib\\site-packages (from kubernetes>=28.1.0->chromadb) (2.5.0)\n",
      "Requirement already satisfied: durationpy>=0.7 in d:\\satheesh\\genai - agentflow\\pyautogui\\pythonfundamentals\\pyautogui\\pyautogui\\lib\\site-packages (from kubernetes>=28.1.0->chromadb) (0.10)\n",
      "Requirement already satisfied: coloredlogs in d:\\satheesh\\genai - agentflow\\pyautogui\\pythonfundamentals\\pyautogui\\pyautogui\\lib\\site-packages (from onnxruntime>=1.14.1->chromadb) (15.0.1)\n",
      "Requirement already satisfied: flatbuffers in d:\\satheesh\\genai - agentflow\\pyautogui\\pythonfundamentals\\pyautogui\\pyautogui\\lib\\site-packages (from onnxruntime>=1.14.1->chromadb) (25.2.10)\n",
      "Requirement already satisfied: protobuf in d:\\satheesh\\genai - agentflow\\pyautogui\\pythonfundamentals\\pyautogui\\pyautogui\\lib\\site-packages (from onnxruntime>=1.14.1->chromadb) (6.32.0)\n",
      "Requirement already satisfied: sympy in d:\\satheesh\\genai - agentflow\\pyautogui\\pythonfundamentals\\pyautogui\\pyautogui\\lib\\site-packages (from onnxruntime>=1.14.1->chromadb) (1.14.0)\n",
      "Requirement already satisfied: importlib-metadata<8.8.0,>=6.0 in d:\\satheesh\\genai - agentflow\\pyautogui\\pythonfundamentals\\pyautogui\\pyautogui\\lib\\site-packages (from opentelemetry-api>=1.2.0->chromadb) (8.7.0)\n",
      "Requirement already satisfied: googleapis-common-protos~=1.57 in d:\\satheesh\\genai - agentflow\\pyautogui\\pythonfundamentals\\pyautogui\\pyautogui\\lib\\site-packages (from opentelemetry-exporter-otlp-proto-grpc>=1.2.0->chromadb) (1.70.0)\n",
      "Requirement already satisfied: opentelemetry-exporter-otlp-proto-common==1.37.0 in d:\\satheesh\\genai - agentflow\\pyautogui\\pythonfundamentals\\pyautogui\\pyautogui\\lib\\site-packages (from opentelemetry-exporter-otlp-proto-grpc>=1.2.0->chromadb) (1.37.0)\n",
      "Requirement already satisfied: opentelemetry-proto==1.37.0 in d:\\satheesh\\genai - agentflow\\pyautogui\\pythonfundamentals\\pyautogui\\pyautogui\\lib\\site-packages (from opentelemetry-exporter-otlp-proto-grpc>=1.2.0->chromadb) (1.37.0)\n",
      "Requirement already satisfied: opentelemetry-semantic-conventions==0.58b0 in d:\\satheesh\\genai - agentflow\\pyautogui\\pythonfundamentals\\pyautogui\\pyautogui\\lib\\site-packages (from opentelemetry-sdk>=1.2.0->chromadb) (0.58b0)\n",
      "Requirement already satisfied: backoff>=1.10.0 in d:\\satheesh\\genai - agentflow\\pyautogui\\pythonfundamentals\\pyautogui\\pyautogui\\lib\\site-packages (from posthog<6.0.0,>=2.4.0->chromadb) (2.2.1)\n",
      "Requirement already satisfied: distro>=1.5.0 in d:\\satheesh\\genai - agentflow\\pyautogui\\pythonfundamentals\\pyautogui\\pyautogui\\lib\\site-packages (from posthog<6.0.0,>=2.4.0->chromadb) (1.9.0)\n",
      "Requirement already satisfied: annotated-types>=0.6.0 in d:\\satheesh\\genai - agentflow\\pyautogui\\pythonfundamentals\\pyautogui\\pyautogui\\lib\\site-packages (from pydantic>=1.9->chromadb) (0.7.0)\n",
      "Requirement already satisfied: pydantic-core==2.33.2 in d:\\satheesh\\genai - agentflow\\pyautogui\\pythonfundamentals\\pyautogui\\pyautogui\\lib\\site-packages (from pydantic>=1.9->chromadb) (2.33.2)\n",
      "Requirement already satisfied: typing-inspection>=0.4.0 in d:\\satheesh\\genai - agentflow\\pyautogui\\pythonfundamentals\\pyautogui\\pyautogui\\lib\\site-packages (from pydantic>=1.9->chromadb) (0.4.1)\n",
      "Requirement already satisfied: markdown-it-py>=2.2.0 in d:\\satheesh\\genai - agentflow\\pyautogui\\pythonfundamentals\\pyautogui\\pyautogui\\lib\\site-packages (from rich>=10.11.0->chromadb) (4.0.0)\n",
      "Requirement already satisfied: pygments<3.0.0,>=2.13.0 in d:\\satheesh\\genai - agentflow\\pyautogui\\pythonfundamentals\\pyautogui\\pyautogui\\lib\\site-packages (from rich>=10.11.0->chromadb) (2.19.2)\n",
      "Requirement already satisfied: huggingface-hub<1.0,>=0.16.4 in d:\\satheesh\\genai - agentflow\\pyautogui\\pythonfundamentals\\pyautogui\\pyautogui\\lib\\site-packages (from tokenizers>=0.13.2->chromadb) (0.34.6)\n",
      "Requirement already satisfied: click>=8.0.0 in d:\\satheesh\\genai - agentflow\\pyautogui\\pythonfundamentals\\pyautogui\\pyautogui\\lib\\site-packages (from typer>=0.9.0->chromadb) (8.2.1)\n",
      "Requirement already satisfied: shellingham>=1.3.0 in d:\\satheesh\\genai - agentflow\\pyautogui\\pythonfundamentals\\pyautogui\\pyautogui\\lib\\site-packages (from typer>=0.9.0->chromadb) (1.5.4)\n",
      "Requirement already satisfied: httptools>=0.6.3 in d:\\satheesh\\genai - agentflow\\pyautogui\\pythonfundamentals\\pyautogui\\pyautogui\\lib\\site-packages (from uvicorn[standard]>=0.18.3->chromadb) (0.6.4)\n",
      "Requirement already satisfied: python-dotenv>=0.13 in d:\\satheesh\\genai - agentflow\\pyautogui\\pythonfundamentals\\pyautogui\\pyautogui\\lib\\site-packages (from uvicorn[standard]>=0.18.3->chromadb) (1.1.1)\n",
      "Requirement already satisfied: watchfiles>=0.13 in d:\\satheesh\\genai - agentflow\\pyautogui\\pythonfundamentals\\pyautogui\\pyautogui\\lib\\site-packages (from uvicorn[standard]>=0.18.3->chromadb) (1.1.0)\n",
      "Requirement already satisfied: websockets>=10.4 in d:\\satheesh\\genai - agentflow\\pyautogui\\pythonfundamentals\\pyautogui\\pyautogui\\lib\\site-packages (from uvicorn[standard]>=0.18.3->chromadb) (15.0.1)\n",
      "Requirement already satisfied: cachetools<6.0,>=2.0.0 in d:\\satheesh\\genai - agentflow\\pyautogui\\pythonfundamentals\\pyautogui\\pyautogui\\lib\\site-packages (from google-auth>=1.0.1->kubernetes>=28.1.0->chromadb) (5.5.2)\n",
      "Requirement already satisfied: pyasn1-modules>=0.2.1 in d:\\satheesh\\genai - agentflow\\pyautogui\\pythonfundamentals\\pyautogui\\pyautogui\\lib\\site-packages (from google-auth>=1.0.1->kubernetes>=28.1.0->chromadb) (0.4.2)\n",
      "Requirement already satisfied: rsa<5,>=3.1.4 in d:\\satheesh\\genai - agentflow\\pyautogui\\pythonfundamentals\\pyautogui\\pyautogui\\lib\\site-packages (from google-auth>=1.0.1->kubernetes>=28.1.0->chromadb) (4.9.1)\n",
      "Requirement already satisfied: filelock in d:\\satheesh\\genai - agentflow\\pyautogui\\pythonfundamentals\\pyautogui\\pyautogui\\lib\\site-packages (from huggingface-hub<1.0,>=0.16.4->tokenizers>=0.13.2->chromadb) (3.19.1)\n",
      "Requirement already satisfied: fsspec>=2023.5.0 in d:\\satheesh\\genai - agentflow\\pyautogui\\pythonfundamentals\\pyautogui\\pyautogui\\lib\\site-packages (from huggingface-hub<1.0,>=0.16.4->tokenizers>=0.13.2->chromadb) (2025.9.0)\n",
      "Requirement already satisfied: zipp>=3.20 in d:\\satheesh\\genai - agentflow\\pyautogui\\pythonfundamentals\\pyautogui\\pyautogui\\lib\\site-packages (from importlib-metadata<8.8.0,>=6.0->opentelemetry-api>=1.2.0->chromadb) (3.23.0)\n",
      "Requirement already satisfied: mdurl~=0.1 in d:\\satheesh\\genai - agentflow\\pyautogui\\pythonfundamentals\\pyautogui\\pyautogui\\lib\\site-packages (from markdown-it-py>=2.2.0->rich>=10.11.0->chromadb) (0.1.2)\n",
      "Requirement already satisfied: charset_normalizer<4,>=2 in d:\\satheesh\\genai - agentflow\\pyautogui\\pythonfundamentals\\pyautogui\\pyautogui\\lib\\site-packages (from requests->kubernetes>=28.1.0->chromadb) (3.4.3)\n",
      "Requirement already satisfied: sniffio>=1.1 in d:\\satheesh\\genai - agentflow\\pyautogui\\pythonfundamentals\\pyautogui\\pyautogui\\lib\\site-packages (from anyio->httpx>=0.27.0->chromadb) (1.3.1)\n",
      "Requirement already satisfied: humanfriendly>=9.1 in d:\\satheesh\\genai - agentflow\\pyautogui\\pythonfundamentals\\pyautogui\\pyautogui\\lib\\site-packages (from coloredlogs->onnxruntime>=1.14.1->chromadb) (10.0)\n",
      "Requirement already satisfied: mpmath<1.4,>=1.1.0 in d:\\satheesh\\genai - agentflow\\pyautogui\\pythonfundamentals\\pyautogui\\pyautogui\\lib\\site-packages (from sympy->onnxruntime>=1.14.1->chromadb) (1.3.0)\n",
      "Requirement already satisfied: pyreadline3 in d:\\satheesh\\genai - agentflow\\pyautogui\\pythonfundamentals\\pyautogui\\pyautogui\\lib\\site-packages (from humanfriendly>=9.1->coloredlogs->onnxruntime>=1.14.1->chromadb) (3.5.4)\n",
      "Requirement already satisfied: pyasn1<0.7.0,>=0.6.1 in d:\\satheesh\\genai - agentflow\\pyautogui\\pythonfundamentals\\pyautogui\\pyautogui\\lib\\site-packages (from pyasn1-modules>=0.2.1->google-auth>=1.0.1->kubernetes>=28.1.0->chromadb) (0.6.1)\n",
      "Note: you may need to restart the kernel to use updated packages.\n"
     ]
    },
    {
     "name": "stderr",
     "output_type": "stream",
     "text": [
      "\n",
      "[notice] A new release of pip available: 22.3 -> 25.2\n",
      "[notice] To update, run: python.exe -m pip install --upgrade pip\n"
     ]
    }
   ],
   "source": [
    "pip install chromadb"
   ]
  },
  {
   "cell_type": "code",
   "execution_count": 5,
   "id": "aa6c2af6",
   "metadata": {},
   "outputs": [
    {
     "name": "stdout",
     "output_type": "stream",
     "text": [
      "Requirement already satisfied: langchain-huggingface in d:\\satheesh\\genai - agentflow\\pyautogui\\pythonfundamentals\\pyautogui\\pyautogui\\lib\\site-packages (0.3.1)\n",
      "Collecting sentence-transformers\n",
      "  Downloading sentence_transformers-5.1.0-py3-none-any.whl (483 kB)\n",
      "     -------------------------------------- 483.4/483.4 kB 7.5 MB/s eta 0:00:00\n",
      "Requirement already satisfied: langchain-core<1.0.0,>=0.3.70 in d:\\satheesh\\genai - agentflow\\pyautogui\\pythonfundamentals\\pyautogui\\pyautogui\\lib\\site-packages (from langchain-huggingface) (0.3.76)\n",
      "Requirement already satisfied: tokenizers>=0.19.1 in d:\\satheesh\\genai - agentflow\\pyautogui\\pythonfundamentals\\pyautogui\\pyautogui\\lib\\site-packages (from langchain-huggingface) (0.22.0)\n",
      "Requirement already satisfied: huggingface-hub>=0.33.4 in d:\\satheesh\\genai - agentflow\\pyautogui\\pythonfundamentals\\pyautogui\\pyautogui\\lib\\site-packages (from langchain-huggingface) (0.34.6)\n",
      "Collecting transformers<5.0.0,>=4.41.0\n",
      "  Downloading transformers-4.56.1-py3-none-any.whl (11.6 MB)\n",
      "     ---------------------------------------- 11.6/11.6 MB 5.5 MB/s eta 0:00:00\n",
      "Requirement already satisfied: tqdm in d:\\satheesh\\genai - agentflow\\pyautogui\\pythonfundamentals\\pyautogui\\pyautogui\\lib\\site-packages (from sentence-transformers) (4.67.1)\n",
      "Collecting torch>=1.11.0\n",
      "  Downloading torch-2.8.0-cp311-cp311-win_amd64.whl (241.4 MB)\n",
      "     -------------------------------------- 241.4/241.4 MB 2.8 MB/s eta 0:00:00\n",
      "Requirement already satisfied: scikit-learn in d:\\satheesh\\genai - agentflow\\pyautogui\\pythonfundamentals\\pyautogui\\pyautogui\\lib\\site-packages (from sentence-transformers) (1.7.1)\n",
      "Requirement already satisfied: scipy in d:\\satheesh\\genai - agentflow\\pyautogui\\pythonfundamentals\\pyautogui\\pyautogui\\lib\\site-packages (from sentence-transformers) (1.16.1)\n",
      "Requirement already satisfied: Pillow in d:\\satheesh\\genai - agentflow\\pyautogui\\pythonfundamentals\\pyautogui\\pyautogui\\lib\\site-packages (from sentence-transformers) (11.3.0)\n",
      "Requirement already satisfied: typing_extensions>=4.5.0 in d:\\satheesh\\genai - agentflow\\pyautogui\\pythonfundamentals\\pyautogui\\pyautogui\\lib\\site-packages (from sentence-transformers) (4.15.0)\n",
      "Requirement already satisfied: filelock in d:\\satheesh\\genai - agentflow\\pyautogui\\pythonfundamentals\\pyautogui\\pyautogui\\lib\\site-packages (from huggingface-hub>=0.33.4->langchain-huggingface) (3.19.1)\n",
      "Requirement already satisfied: fsspec>=2023.5.0 in d:\\satheesh\\genai - agentflow\\pyautogui\\pythonfundamentals\\pyautogui\\pyautogui\\lib\\site-packages (from huggingface-hub>=0.33.4->langchain-huggingface) (2025.9.0)\n",
      "Requirement already satisfied: packaging>=20.9 in d:\\satheesh\\genai - agentflow\\pyautogui\\pythonfundamentals\\pyautogui\\pyautogui\\lib\\site-packages (from huggingface-hub>=0.33.4->langchain-huggingface) (25.0)\n",
      "Requirement already satisfied: pyyaml>=5.1 in d:\\satheesh\\genai - agentflow\\pyautogui\\pythonfundamentals\\pyautogui\\pyautogui\\lib\\site-packages (from huggingface-hub>=0.33.4->langchain-huggingface) (6.0.2)\n",
      "Requirement already satisfied: requests in d:\\satheesh\\genai - agentflow\\pyautogui\\pythonfundamentals\\pyautogui\\pyautogui\\lib\\site-packages (from huggingface-hub>=0.33.4->langchain-huggingface) (2.32.5)\n",
      "Requirement already satisfied: langsmith>=0.3.45 in d:\\satheesh\\genai - agentflow\\pyautogui\\pythonfundamentals\\pyautogui\\pyautogui\\lib\\site-packages (from langchain-core<1.0.0,>=0.3.70->langchain-huggingface) (0.4.27)\n",
      "Requirement already satisfied: tenacity!=8.4.0,<10.0.0,>=8.1.0 in d:\\satheesh\\genai - agentflow\\pyautogui\\pythonfundamentals\\pyautogui\\pyautogui\\lib\\site-packages (from langchain-core<1.0.0,>=0.3.70->langchain-huggingface) (9.1.2)\n",
      "Requirement already satisfied: jsonpatch<2.0,>=1.33 in d:\\satheesh\\genai - agentflow\\pyautogui\\pythonfundamentals\\pyautogui\\pyautogui\\lib\\site-packages (from langchain-core<1.0.0,>=0.3.70->langchain-huggingface) (1.33)\n",
      "Requirement already satisfied: pydantic>=2.7.4 in d:\\satheesh\\genai - agentflow\\pyautogui\\pythonfundamentals\\pyautogui\\pyautogui\\lib\\site-packages (from langchain-core<1.0.0,>=0.3.70->langchain-huggingface) (2.11.9)\n",
      "Collecting sympy>=1.13.3\n",
      "  Downloading sympy-1.14.0-py3-none-any.whl (6.3 MB)\n",
      "     ---------------------------------------- 6.3/6.3 MB 7.2 MB/s eta 0:00:00\n",
      "Collecting networkx\n",
      "  Downloading networkx-3.5-py3-none-any.whl (2.0 MB)\n",
      "     ---------------------------------------- 2.0/2.0 MB 8.7 MB/s eta 0:00:00\n",
      "Requirement already satisfied: jinja2 in d:\\satheesh\\genai - agentflow\\pyautogui\\pythonfundamentals\\pyautogui\\pyautogui\\lib\\site-packages (from torch>=1.11.0->sentence-transformers) (3.1.6)\n",
      "Requirement already satisfied: colorama in d:\\satheesh\\genai - agentflow\\pyautogui\\pythonfundamentals\\pyautogui\\pyautogui\\lib\\site-packages (from tqdm->sentence-transformers) (0.4.6)\n",
      "Requirement already satisfied: numpy>=1.17 in d:\\satheesh\\genai - agentflow\\pyautogui\\pythonfundamentals\\pyautogui\\pyautogui\\lib\\site-packages (from transformers<5.0.0,>=4.41.0->sentence-transformers) (2.3.2)\n",
      "Collecting regex!=2019.12.17\n",
      "  Downloading regex-2025.9.1-cp311-cp311-win_amd64.whl (276 kB)\n",
      "     -------------------------------------- 276.2/276.2 kB 2.4 MB/s eta 0:00:00\n",
      "Collecting safetensors>=0.4.3\n",
      "  Downloading safetensors-0.6.2-cp38-abi3-win_amd64.whl (320 kB)\n",
      "     -------------------------------------- 320.2/320.2 kB 6.6 MB/s eta 0:00:00\n",
      "Requirement already satisfied: joblib>=1.2.0 in d:\\satheesh\\genai - agentflow\\pyautogui\\pythonfundamentals\\pyautogui\\pyautogui\\lib\\site-packages (from scikit-learn->sentence-transformers) (1.5.2)\n",
      "Requirement already satisfied: threadpoolctl>=3.1.0 in d:\\satheesh\\genai - agentflow\\pyautogui\\pythonfundamentals\\pyautogui\\pyautogui\\lib\\site-packages (from scikit-learn->sentence-transformers) (3.6.0)\n",
      "Requirement already satisfied: jsonpointer>=1.9 in d:\\satheesh\\genai - agentflow\\pyautogui\\pythonfundamentals\\pyautogui\\pyautogui\\lib\\site-packages (from jsonpatch<2.0,>=1.33->langchain-core<1.0.0,>=0.3.70->langchain-huggingface) (3.0.0)\n",
      "Requirement already satisfied: httpx<1,>=0.23.0 in d:\\satheesh\\genai - agentflow\\pyautogui\\pythonfundamentals\\pyautogui\\pyautogui\\lib\\site-packages (from langsmith>=0.3.45->langchain-core<1.0.0,>=0.3.70->langchain-huggingface) (0.28.1)\n",
      "Requirement already satisfied: orjson>=3.9.14 in d:\\satheesh\\genai - agentflow\\pyautogui\\pythonfundamentals\\pyautogui\\pyautogui\\lib\\site-packages (from langsmith>=0.3.45->langchain-core<1.0.0,>=0.3.70->langchain-huggingface) (3.11.3)\n",
      "Requirement already satisfied: requests-toolbelt>=1.0.0 in d:\\satheesh\\genai - agentflow\\pyautogui\\pythonfundamentals\\pyautogui\\pyautogui\\lib\\site-packages (from langsmith>=0.3.45->langchain-core<1.0.0,>=0.3.70->langchain-huggingface) (1.0.0)\n",
      "Requirement already satisfied: zstandard>=0.23.0 in d:\\satheesh\\genai - agentflow\\pyautogui\\pythonfundamentals\\pyautogui\\pyautogui\\lib\\site-packages (from langsmith>=0.3.45->langchain-core<1.0.0,>=0.3.70->langchain-huggingface) (0.25.0)\n",
      "Requirement already satisfied: annotated-types>=0.6.0 in d:\\satheesh\\genai - agentflow\\pyautogui\\pythonfundamentals\\pyautogui\\pyautogui\\lib\\site-packages (from pydantic>=2.7.4->langchain-core<1.0.0,>=0.3.70->langchain-huggingface) (0.7.0)\n",
      "Requirement already satisfied: pydantic-core==2.33.2 in d:\\satheesh\\genai - agentflow\\pyautogui\\pythonfundamentals\\pyautogui\\pyautogui\\lib\\site-packages (from pydantic>=2.7.4->langchain-core<1.0.0,>=0.3.70->langchain-huggingface) (2.33.2)\n",
      "Requirement already satisfied: typing-inspection>=0.4.0 in d:\\satheesh\\genai - agentflow\\pyautogui\\pythonfundamentals\\pyautogui\\pyautogui\\lib\\site-packages (from pydantic>=2.7.4->langchain-core<1.0.0,>=0.3.70->langchain-huggingface) (0.4.1)\n",
      "Requirement already satisfied: charset_normalizer<4,>=2 in d:\\satheesh\\genai - agentflow\\pyautogui\\pythonfundamentals\\pyautogui\\pyautogui\\lib\\site-packages (from requests->huggingface-hub>=0.33.4->langchain-huggingface) (3.4.3)\n",
      "Requirement already satisfied: idna<4,>=2.5 in d:\\satheesh\\genai - agentflow\\pyautogui\\pythonfundamentals\\pyautogui\\pyautogui\\lib\\site-packages (from requests->huggingface-hub>=0.33.4->langchain-huggingface) (3.10)\n",
      "Requirement already satisfied: urllib3<3,>=1.21.1 in d:\\satheesh\\genai - agentflow\\pyautogui\\pythonfundamentals\\pyautogui\\pyautogui\\lib\\site-packages (from requests->huggingface-hub>=0.33.4->langchain-huggingface) (2.5.0)\n",
      "Requirement already satisfied: certifi>=2017.4.17 in d:\\satheesh\\genai - agentflow\\pyautogui\\pythonfundamentals\\pyautogui\\pyautogui\\lib\\site-packages (from requests->huggingface-hub>=0.33.4->langchain-huggingface) (2025.8.3)\n",
      "Collecting mpmath<1.4,>=1.1.0\n",
      "  Downloading mpmath-1.3.0-py3-none-any.whl (536 kB)\n",
      "     -------------------------------------- 536.2/536.2 kB 6.7 MB/s eta 0:00:00\n",
      "Requirement already satisfied: MarkupSafe>=2.0 in d:\\satheesh\\genai - agentflow\\pyautogui\\pythonfundamentals\\pyautogui\\pyautogui\\lib\\site-packages (from jinja2->torch>=1.11.0->sentence-transformers) (3.0.2)\n",
      "Requirement already satisfied: anyio in d:\\satheesh\\genai - agentflow\\pyautogui\\pythonfundamentals\\pyautogui\\pyautogui\\lib\\site-packages (from httpx<1,>=0.23.0->langsmith>=0.3.45->langchain-core<1.0.0,>=0.3.70->langchain-huggingface) (4.10.0)\n",
      "Requirement already satisfied: httpcore==1.* in d:\\satheesh\\genai - agentflow\\pyautogui\\pythonfundamentals\\pyautogui\\pyautogui\\lib\\site-packages (from httpx<1,>=0.23.0->langsmith>=0.3.45->langchain-core<1.0.0,>=0.3.70->langchain-huggingface) (1.0.9)\n",
      "Requirement already satisfied: h11>=0.16 in d:\\satheesh\\genai - agentflow\\pyautogui\\pythonfundamentals\\pyautogui\\pyautogui\\lib\\site-packages (from httpcore==1.*->httpx<1,>=0.23.0->langsmith>=0.3.45->langchain-core<1.0.0,>=0.3.70->langchain-huggingface) (0.16.0)\n",
      "Requirement already satisfied: sniffio>=1.1 in d:\\satheesh\\genai - agentflow\\pyautogui\\pythonfundamentals\\pyautogui\\pyautogui\\lib\\site-packages (from anyio->httpx<1,>=0.23.0->langsmith>=0.3.45->langchain-core<1.0.0,>=0.3.70->langchain-huggingface) (1.3.1)\n",
      "Installing collected packages: mpmath, sympy, safetensors, regex, networkx, torch, transformers, sentence-transformers\n",
      "Successfully installed mpmath-1.3.0 networkx-3.5 regex-2025.9.1 safetensors-0.6.2 sentence-transformers-5.1.0 sympy-1.14.0 torch-2.8.0 transformers-4.56.1\n"
     ]
    },
    {
     "name": "stderr",
     "output_type": "stream",
     "text": [
      "\n",
      "[notice] A new release of pip available: 22.3 -> 25.2\n",
      "[notice] To update, run: python.exe -m pip install --upgrade pip\n"
     ]
    },
    {
     "name": "stdout",
     "output_type": "stream",
     "text": [
      "Note: you may need to restart the kernel to use updated packages.\n"
     ]
    }
   ],
   "source": [
    "pip install langchain-huggingface sentence-transformers\n"
   ]
  },
  {
   "cell_type": "code",
   "execution_count": 2,
   "id": "c98db300",
   "metadata": {},
   "outputs": [
    {
     "name": "stdout",
     "output_type": "stream",
     "text": [
      "Collecting langchain-huggingface\n",
      "  Downloading langchain_huggingface-0.3.1-py3-none-any.whl (27 kB)\n",
      "Requirement already satisfied: langchain-core<1.0.0,>=0.3.70 in d:\\satheesh\\genai - agentflow\\pyautogui\\pythonfundamentals\\pyautogui\\pyautogui\\lib\\site-packages (from langchain-huggingface) (0.3.76)\n",
      "Collecting tokenizers>=0.19.1\n",
      "  Downloading tokenizers-0.22.0-cp39-abi3-win_amd64.whl (2.7 MB)\n",
      "     ---------------------------------------- 2.7/2.7 MB 5.2 MB/s eta 0:00:00\n",
      "Collecting huggingface-hub>=0.33.4\n",
      "  Downloading huggingface_hub-0.34.6-py3-none-any.whl (562 kB)\n",
      "     -------------------------------------- 562.6/562.6 kB 5.1 MB/s eta 0:00:00\n",
      "Collecting filelock\n",
      "  Downloading filelock-3.19.1-py3-none-any.whl (15 kB)\n",
      "Collecting fsspec>=2023.5.0\n",
      "  Downloading fsspec-2025.9.0-py3-none-any.whl (199 kB)\n",
      "     ------------------------------------- 199.3/199.3 kB 11.8 MB/s eta 0:00:00\n",
      "Requirement already satisfied: packaging>=20.9 in d:\\satheesh\\genai - agentflow\\pyautogui\\pythonfundamentals\\pyautogui\\pyautogui\\lib\\site-packages (from huggingface-hub>=0.33.4->langchain-huggingface) (25.0)\n",
      "Requirement already satisfied: pyyaml>=5.1 in d:\\satheesh\\genai - agentflow\\pyautogui\\pythonfundamentals\\pyautogui\\pyautogui\\lib\\site-packages (from huggingface-hub>=0.33.4->langchain-huggingface) (6.0.2)\n",
      "Requirement already satisfied: requests in d:\\satheesh\\genai - agentflow\\pyautogui\\pythonfundamentals\\pyautogui\\pyautogui\\lib\\site-packages (from huggingface-hub>=0.33.4->langchain-huggingface) (2.32.5)\n",
      "Collecting tqdm>=4.42.1\n",
      "  Downloading tqdm-4.67.1-py3-none-any.whl (78 kB)\n",
      "     ---------------------------------------- 78.5/78.5 kB ? eta 0:00:00\n",
      "Requirement already satisfied: typing-extensions>=3.7.4.3 in d:\\satheesh\\genai - agentflow\\pyautogui\\pythonfundamentals\\pyautogui\\pyautogui\\lib\\site-packages (from huggingface-hub>=0.33.4->langchain-huggingface) (4.15.0)\n",
      "Requirement already satisfied: langsmith>=0.3.45 in d:\\satheesh\\genai - agentflow\\pyautogui\\pythonfundamentals\\pyautogui\\pyautogui\\lib\\site-packages (from langchain-core<1.0.0,>=0.3.70->langchain-huggingface) (0.4.27)\n",
      "Requirement already satisfied: tenacity!=8.4.0,<10.0.0,>=8.1.0 in d:\\satheesh\\genai - agentflow\\pyautogui\\pythonfundamentals\\pyautogui\\pyautogui\\lib\\site-packages (from langchain-core<1.0.0,>=0.3.70->langchain-huggingface) (9.1.2)\n",
      "Requirement already satisfied: jsonpatch<2.0,>=1.33 in d:\\satheesh\\genai - agentflow\\pyautogui\\pythonfundamentals\\pyautogui\\pyautogui\\lib\\site-packages (from langchain-core<1.0.0,>=0.3.70->langchain-huggingface) (1.33)\n",
      "Requirement already satisfied: pydantic>=2.7.4 in d:\\satheesh\\genai - agentflow\\pyautogui\\pythonfundamentals\\pyautogui\\pyautogui\\lib\\site-packages (from langchain-core<1.0.0,>=0.3.70->langchain-huggingface) (2.11.9)\n",
      "Requirement already satisfied: jsonpointer>=1.9 in d:\\satheesh\\genai - agentflow\\pyautogui\\pythonfundamentals\\pyautogui\\pyautogui\\lib\\site-packages (from jsonpatch<2.0,>=1.33->langchain-core<1.0.0,>=0.3.70->langchain-huggingface) (3.0.0)\n",
      "Requirement already satisfied: httpx<1,>=0.23.0 in d:\\satheesh\\genai - agentflow\\pyautogui\\pythonfundamentals\\pyautogui\\pyautogui\\lib\\site-packages (from langsmith>=0.3.45->langchain-core<1.0.0,>=0.3.70->langchain-huggingface) (0.28.1)\n",
      "Requirement already satisfied: orjson>=3.9.14 in d:\\satheesh\\genai - agentflow\\pyautogui\\pythonfundamentals\\pyautogui\\pyautogui\\lib\\site-packages (from langsmith>=0.3.45->langchain-core<1.0.0,>=0.3.70->langchain-huggingface) (3.11.3)\n",
      "Requirement already satisfied: requests-toolbelt>=1.0.0 in d:\\satheesh\\genai - agentflow\\pyautogui\\pythonfundamentals\\pyautogui\\pyautogui\\lib\\site-packages (from langsmith>=0.3.45->langchain-core<1.0.0,>=0.3.70->langchain-huggingface) (1.0.0)\n",
      "Requirement already satisfied: zstandard>=0.23.0 in d:\\satheesh\\genai - agentflow\\pyautogui\\pythonfundamentals\\pyautogui\\pyautogui\\lib\\site-packages (from langsmith>=0.3.45->langchain-core<1.0.0,>=0.3.70->langchain-huggingface) (0.25.0)\n",
      "Requirement already satisfied: annotated-types>=0.6.0 in d:\\satheesh\\genai - agentflow\\pyautogui\\pythonfundamentals\\pyautogui\\pyautogui\\lib\\site-packages (from pydantic>=2.7.4->langchain-core<1.0.0,>=0.3.70->langchain-huggingface) (0.7.0)\n",
      "Requirement already satisfied: pydantic-core==2.33.2 in d:\\satheesh\\genai - agentflow\\pyautogui\\pythonfundamentals\\pyautogui\\pyautogui\\lib\\site-packages (from pydantic>=2.7.4->langchain-core<1.0.0,>=0.3.70->langchain-huggingface) (2.33.2)\n",
      "Requirement already satisfied: typing-inspection>=0.4.0 in d:\\satheesh\\genai - agentflow\\pyautogui\\pythonfundamentals\\pyautogui\\pyautogui\\lib\\site-packages (from pydantic>=2.7.4->langchain-core<1.0.0,>=0.3.70->langchain-huggingface) (0.4.1)\n",
      "Requirement already satisfied: charset_normalizer<4,>=2 in d:\\satheesh\\genai - agentflow\\pyautogui\\pythonfundamentals\\pyautogui\\pyautogui\\lib\\site-packages (from requests->huggingface-hub>=0.33.4->langchain-huggingface) (3.4.3)\n",
      "Requirement already satisfied: idna<4,>=2.5 in d:\\satheesh\\genai - agentflow\\pyautogui\\pythonfundamentals\\pyautogui\\pyautogui\\lib\\site-packages (from requests->huggingface-hub>=0.33.4->langchain-huggingface) (3.10)\n",
      "Requirement already satisfied: urllib3<3,>=1.21.1 in d:\\satheesh\\genai - agentflow\\pyautogui\\pythonfundamentals\\pyautogui\\pyautogui\\lib\\site-packages (from requests->huggingface-hub>=0.33.4->langchain-huggingface) (2.5.0)\n",
      "Requirement already satisfied: certifi>=2017.4.17 in d:\\satheesh\\genai - agentflow\\pyautogui\\pythonfundamentals\\pyautogui\\pyautogui\\lib\\site-packages (from requests->huggingface-hub>=0.33.4->langchain-huggingface) (2025.8.3)\n",
      "Requirement already satisfied: colorama in d:\\satheesh\\genai - agentflow\\pyautogui\\pythonfundamentals\\pyautogui\\pyautogui\\lib\\site-packages (from tqdm>=4.42.1->huggingface-hub>=0.33.4->langchain-huggingface) (0.4.6)\n",
      "Requirement already satisfied: anyio in d:\\satheesh\\genai - agentflow\\pyautogui\\pythonfundamentals\\pyautogui\\pyautogui\\lib\\site-packages (from httpx<1,>=0.23.0->langsmith>=0.3.45->langchain-core<1.0.0,>=0.3.70->langchain-huggingface) (4.10.0)\n",
      "Requirement already satisfied: httpcore==1.* in d:\\satheesh\\genai - agentflow\\pyautogui\\pythonfundamentals\\pyautogui\\pyautogui\\lib\\site-packages (from httpx<1,>=0.23.0->langsmith>=0.3.45->langchain-core<1.0.0,>=0.3.70->langchain-huggingface) (1.0.9)\n",
      "Requirement already satisfied: h11>=0.16 in d:\\satheesh\\genai - agentflow\\pyautogui\\pythonfundamentals\\pyautogui\\pyautogui\\lib\\site-packages (from httpcore==1.*->httpx<1,>=0.23.0->langsmith>=0.3.45->langchain-core<1.0.0,>=0.3.70->langchain-huggingface) (0.16.0)\n",
      "Requirement already satisfied: sniffio>=1.1 in d:\\satheesh\\genai - agentflow\\pyautogui\\pythonfundamentals\\pyautogui\\pyautogui\\lib\\site-packages (from anyio->httpx<1,>=0.23.0->langsmith>=0.3.45->langchain-core<1.0.0,>=0.3.70->langchain-huggingface) (1.3.1)\n",
      "Installing collected packages: tqdm, fsspec, filelock, huggingface-hub, tokenizers, langchain-huggingface\n",
      "Successfully installed filelock-3.19.1 fsspec-2025.9.0 huggingface-hub-0.34.6 langchain-huggingface-0.3.1 tokenizers-0.22.0 tqdm-4.67.1\n",
      "Note: you may need to restart the kernel to use updated packages.\n"
     ]
    },
    {
     "name": "stderr",
     "output_type": "stream",
     "text": [
      "\n",
      "[notice] A new release of pip available: 22.3 -> 25.2\n",
      "[notice] To update, run: python.exe -m pip install --upgrade pip\n"
     ]
    }
   ],
   "source": [
    "pip install langchain-huggingface"
   ]
  },
  {
   "cell_type": "code",
   "execution_count": 4,
   "id": "c822091d",
   "metadata": {},
   "outputs": [],
   "source": [
    "from langchain_community.document_loaders import PyPDFLoader"
   ]
  },
  {
   "cell_type": "code",
   "execution_count": 3,
   "id": "5f24e379",
   "metadata": {},
   "outputs": [
    {
     "data": {
      "text/plain": [
       "[Document(metadata={'source': 'notes.txt'}, page_content='Hello Satheeshkumar Subramanian, GENAI Architect!')]"
      ]
     },
     "execution_count": 3,
     "metadata": {},
     "output_type": "execute_result"
    }
   ],
   "source": [
    "test.load()"
   ]
  },
  {
   "cell_type": "code",
   "execution_count": 2,
   "id": "38ed48d1",
   "metadata": {},
   "outputs": [],
   "source": [
    "test = TextLoader('notes.txt')"
   ]
  },
  {
   "cell_type": "code",
   "execution_count": 1,
   "id": "86525307",
   "metadata": {},
   "outputs": [],
   "source": [
    "from langchain_community.document_loaders import TextLoader"
   ]
  },
  {
   "cell_type": "code",
   "execution_count": 5,
   "id": "31dcacec",
   "metadata": {},
   "outputs": [
    {
     "name": "stdout",
     "output_type": "stream",
     "text": [
      "Collecting pypdf\n",
      "  Downloading pypdf-6.0.0-py3-none-any.whl (310 kB)\n",
      "     -------------------------------------- 310.5/310.5 kB 1.1 MB/s eta 0:00:00\n",
      "Installing collected packages: pypdf\n",
      "Successfully installed pypdf-6.0.0\n",
      "Note: you may need to restart the kernel to use updated packages.\n"
     ]
    },
    {
     "name": "stderr",
     "output_type": "stream",
     "text": [
      "\n",
      "[notice] A new release of pip available: 22.3 -> 25.2\n",
      "[notice] To update, run: python.exe -m pip install --upgrade pip\n"
     ]
    }
   ],
   "source": [
    "pip install pypdf\n"
   ]
  }
 ],
 "metadata": {
  "kernelspec": {
   "display_name": "pyautogui (3.11.0)",
   "language": "python",
   "name": "python3"
  },
  "language_info": {
   "codemirror_mode": {
    "name": "ipython",
    "version": 3
   },
   "file_extension": ".py",
   "mimetype": "text/x-python",
   "name": "python",
   "nbconvert_exporter": "python",
   "pygments_lexer": "ipython3",
   "version": "3.11.0"
  }
 },
 "nbformat": 4,
 "nbformat_minor": 5
}
